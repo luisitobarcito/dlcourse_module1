{
 "cells": [
  {
   "cell_type": "markdown",
   "metadata": {},
   "source": [
    "# Visualizing Convnets\n",
    "Convolutional networks are not only great at viusla processing tasks, but allow som understanding of the inner workings of a trained network. As we will see here, we can probe units of convolutional networks an get some insight on what they are sensititve and get some insight about the hierarchichal processing carried out in deep neural nets."
   ]
  },
  {
   "cell_type": "code",
   "execution_count": 1,
   "metadata": {},
   "outputs": [
    {
     "name": "stderr",
     "output_type": "stream",
     "text": [
      "/usr/lib/python2.7/dist-packages/matplotlib/font_manager.py:273: UserWarning: Matplotlib is building the font cache using fc-list. This may take a moment.\n",
      "  warnings.warn('Matplotlib is building the font cache using fc-list. This may take a moment.')\n"
     ]
    }
   ],
   "source": [
    "from __future__ import absolute_import\n",
    "from __future__ import division\n",
    "from __future__ import print_function\n",
    "\n",
    "import argparse\n",
    "import sys\n",
    "\n",
    "from tensorflow.examples.tutorials.mnist import input_data\n",
    "import tensorflow as tf\n",
    "import numpy as np\n",
    "import matplotlib.pyplot as plt\n",
    "\n",
    "from tf_utils import ConvLayer, PoolLayer, FullyConnectedLayer\n",
    "from vis_utils import tilePatches"
   ]
  },
  {
   "cell_type": "markdown",
   "metadata": {},
   "source": [
    "## Receptive field\n",
    "The receptive field is the area of the input image to which a particular unit (neuron) is sensitive.\n",
    "In convolutional networks processing is localized spatially and behaviour replicates across space. This is expressed as a convolution. In their basic form, convolutional units are described by size and stride. The size is the effective window for which local computations are carried out. Stride is the relative displacement between two consecutive local computations. Receptive field are calculated based on the composition of these basic parameters through the layers of a convolutional network."
   ]
  },
  {
   "cell_type": "markdown",
   "metadata": {},
   "source": [
    "## Let's take a look at cifar10 dataset\n",
    "Ww ahve gathered some experience with conve nets sing the MINST data set. In this case we will probe neurons from a network trained on a more naturalistic type of stimuli. Cifar 10 is a relatively simple data set described in https://www.cs.toronto.edu/~kriz/cifar.html. The number of training samples is similar to mnist but unlike mnist, cifar 10 contains 32 x 32 color images from 10 classes of objects.  "
   ]
  },
  {
   "cell_type": "code",
   "execution_count": 2,
   "metadata": {},
   "outputs": [],
   "source": [
    "def unpickle(file):\n",
    "    import cPickle\n",
    "    with open(file, 'rb') as fo:\n",
    "        dict = cPickle.load(fo)\n",
    "    return dict\n",
    "\n",
    "\n",
    "def read_cifar(cifar_dir, one_hot=False, as_images=True):\n",
    "        n_train = 50000\n",
    "        n_test = 10000\n",
    "        data_train = np.ndarray((n_train, 32*32*3), dtype=np.float32)\n",
    "        data_test = np.ndarray((n_test, 32*32*3), dtype=np.float32)\n",
    "        if one_hot is True:\n",
    "            labels_train = np.zeros((n_train, 10), dtype=np.float32)\n",
    "            labels_test = np.zeros((n_test, 10), dtype=np.float32)\n",
    "        else:\n",
    "            labels_train = np.ndarray(n_train, dtype=np.float32)\n",
    "            labels_test = np.ndarray(n_test, dtype=np.float32)\n",
    "        data_ptr = 0\n",
    "        for iBtch in range(5):\n",
    "            tmp_dict = unpickle(cifar_dir + \"data_batch_%d\"%(iBtch+1))\n",
    "            data_train[data_ptr:data_ptr+tmp_dict['data'].shape[0], ::] = tmp_dict['data']\n",
    "            if one_hot is True:\n",
    "                for iSmp in range(data_ptr,data_ptr+len(tmp_dict['labels'])):\n",
    "                    labels_train[iSmp, tmp_dict['labels'][iSmp - data_ptr]] = 1.0\n",
    "            else:\n",
    "                labels_train[data_ptr:data_ptr+len(tmp_dict['labels'])] = np.asarray(tmp_dict['labels'], dtype=labels_train.dtype)\n",
    "            data_ptr += tmp_dict['data'].shape[0]\n",
    "        \n",
    "        tmp_dict = unpickle(cifar_dir + \"test_batch\")\n",
    "        data_test = tmp_dict['data']\n",
    "        if one_hot is True:\n",
    "            for iSmp in range(n_test):\n",
    "                labels_test[iSmp, tmp_dict['labels'][iSmp]] = 1.0\n",
    "        else:\n",
    "            labels_test = np.asarray(tmp_dict['labels'], dtype=labels_train.dtype)\n",
    "        \n",
    "        data_mean = np.mean(data_train, axis=0, keepdims=True)\n",
    "        if as_images is True:\n",
    "            data_train = np.transpose(np.reshape(data_train, [-1, 3, 32, 32]), [0, 2, 3, 1])\n",
    "            data_test = np.transpose(np.reshape(data_test, [-1, 3, 32, 32]), [0, 2, 3, 1])\n",
    "            data_mean = np.transpose(np.reshape(data_mean, [-1, 3, 32, 32]), [0, 2, 3, 1])\n",
    "        return data_train, labels_train, data_test, labels_test, data_mean\n",
    "\n",
    "data_train, labels_train, data_test, labels_test, data_mean = read_cifar(\"../data/cifar/cifar-10-batches-py/\", one_hot=True, as_images=True)"
   ]
  },
  {
   "cell_type": "markdown",
   "metadata": {},
   "source": [
    "## Digression warning! A little data handler\n",
    "We will introduce our own data handler to retrieve minbatcehs for training"
   ]
  },
  {
   "cell_type": "code",
   "execution_count": 3,
   "metadata": {},
   "outputs": [],
   "source": [
    "class Data(object):\n",
    "    \"\"\"\n",
    "    Data class takes care of the minibatch management\n",
    "\n",
    "    There are two optional parameters for Data objects.\n",
    "    -- batch_size: if lefts as None will use the entire data set for \n",
    "       each pass.\n",
    "    -- shuffle: wich defaults to true will shuffle data points to feed \n",
    "       the network at each iteration. When a epoch has been reached, \n",
    "       data is reshuffled.\n",
    "    \"\"\"\n",
    "    batch_iter = None \n",
    "    data_size = None\n",
    "    batch_idx = None\n",
    "    crt_idx = None\n",
    "    n_batches = None\n",
    "    shuffle = None\n",
    "    \n",
    "    def __init__(self, data, batch_size=None, shuffle=True):\n",
    "        self.data = data\n",
    "        self.data_size = data.shape[0]\n",
    "        self.shuffle = shuffle\n",
    "        if batch_size is None:\n",
    "            self.batch_size = self.data_size\n",
    "            self.batch_iter = None\n",
    "            self.batch_idx = None\n",
    "            self.shuffle = False\n",
    "        else:\n",
    "            assert self.data_size >= batch_size, 'batch_size exeeds number of data samples'\n",
    "            self.batch_size = batch_size\n",
    "            self.batch_iter = 0\n",
    "        self.n_batches = np.int64(self.data_size / self.batch_size)\n",
    "        leftovers = self.data_size % self.batch_size\n",
    "                \n",
    "    def getBatch(self):\n",
    "        if self.batch_iter is None:\n",
    "            return self.data\n",
    "  \n",
    "        if self.batch_iter == 0:\n",
    "            ## shuffle data at the begining of every epoch\n",
    "            if self.shuffle is True:\n",
    "                self.batch_idx = np.random.permutation(self.data_size)\n",
    "            else:\n",
    "                self.batch_idx = np.arange(self.data_size, dtype=np.int64)\n",
    "            self.batch_idx = np.reshape(self.batch_idx, (self.n_batches, -1))\n",
    "        self.crt_idx = self.batch_idx[self.batch_iter, :]\n",
    "        batch = self.data[self.crt_idx, ::]\n",
    "        self.batch_iter += 1\n",
    "        if self.batch_iter == self.n_batches:\n",
    "            self.batch_iter = 0\n",
    "        return batch\n",
    "\n",
    "    def getDataAsIn(self, ref_data_object=None):\n",
    "        \"\"\"\n",
    "        This is an auxiliary method with the purpose of selecting\n",
    "        the corresponding data-target pairs. \n",
    "        \"\"\"\n",
    "        if ref_data_object.crt_idx is not None:\n",
    "            return self.data[ref_data_object.crt_idx, ::]\n",
    "        else:\n",
    "            return self.data\n",
    "\n",
    "class CifarData(object):\n",
    "    def __init__(self, data, labels, batch_size=None):\n",
    "        self.data = Data(data, batch_size=batch_size)\n",
    "        self.labels = Data(labels)\n",
    "    \n",
    "    def next_batch(self):\n",
    "        return self.data.getBatch(), self.labels.getDataAsIn(self.data)\n",
    "\n",
    "cifar_train = CifarData(data_train, labels_train, batch_size=100)\n",
    "\n",
    "#cifar_train.next_batch()\n",
    "cifar_test = CifarData(data_test, labels_test, batch_size=100)\n"
   ]
  },
  {
   "cell_type": "code",
   "execution_count": 4,
   "metadata": {
    "scrolled": true
   },
   "outputs": [
    {
     "name": "stdout",
     "output_type": "stream",
     "text": [
      "step 0, training cost 2.3026, training accuracy 0.06, test accuracy 0.0969\n",
      "step 1000, training cost 0.988559, training accuracy 0.61, test accuracy 0.5922\n",
      "step 2000, training cost 0.759493, training accuracy 0.71, test accuracy 0.674\n",
      "step 3000, training cost 0.683286, training accuracy 0.73, test accuracy 0.7145\n",
      "step 4000, training cost 0.515314, training accuracy 0.83, test accuracy 0.7283\n",
      "step 5000, training cost 0.71638, training accuracy 0.72, test accuracy 0.7357\n",
      "step 6000, training cost 0.368268, training accuracy 0.87, test accuracy 0.7481\n",
      "step 7000, training cost 0.403672, training accuracy 0.85, test accuracy 0.7538\n",
      "step 8000, training cost 0.484691, training accuracy 0.83, test accuracy 0.7581\n",
      "step 9000, training cost 0.421426, training accuracy 0.86, test accuracy 0.7517\n"
     ]
    }
   ],
   "source": [
    "class Cifar10ConvNet():\n",
    "    def __init__(self):\n",
    "        self.conv1 = ConvLayer((5, 5, 3, 32), 1,'relu', stddev=0.0001, bias=0.0)\n",
    "        self.pool1 = PoolLayer((3, 3), 2,'MAX', 'VALID')\n",
    "        self.conv2 = ConvLayer((5, 5, 32, 32), 1,'relu', stddev=0.01, bias=0.0)\n",
    "        self.pool2 = PoolLayer((3, 3), 2,'MAX', 'VALID')\n",
    "        self.conv3 = ConvLayer((5, 5, 32, 64), 1,'relu', stddev=0.01, bias=0.0)\n",
    "        self.pool3 = PoolLayer((3, 3), 2, 'AVG', 'VALID')\n",
    "        self.fc4 = FullyConnectedLayer((9*64, 10), 'identity', stddev=0.01, bias=0.0)\n",
    "\n",
    "        \n",
    "    def forward(self, X):\n",
    "        conv1 = self.conv1.forward(X)\n",
    "        pool1 = self.pool1.forward(conv1)\n",
    "        conv2 = self.conv2.forward(pool1)\n",
    "        pool2 = self.pool2.forward(conv2)\n",
    "        conv3 = self.conv3.forward(pool2)\n",
    "        pool3 = self.pool3.forward(conv3)\n",
    "        fc4 = self.fc4.forward(tf.reshape(pool3, [-1,9*64]))\n",
    "        return fc4\n",
    "\n",
    "my_net = Cifar10ConvNet()\n",
    "\n",
    "x = tf.placeholder(tf.float32, [None, 32, 32, 3])\n",
    "pred = my_net.forward(x)\n",
    "# create loss to train\n",
    "label = tf.placeholder(tf.float32, shape=[None, 10])\n",
    "# Use combined logsig and xent to have numerically stable gradients\n",
    "xent_cost = tf.reduce_mean(\n",
    "      tf.nn.softmax_cross_entropy_with_logits(labels=label, logits=pred))\n",
    "train_step = tf.train.MomentumOptimizer(0.001, 0.9).minimize(xent_cost)\n",
    "\n",
    "sess = tf.InteractiveSession()\n",
    "tf.global_variables_initializer().run()\n",
    "\n",
    "# Train\n",
    "correct_prediction = tf.equal(tf.argmax(pred, 1), tf.argmax(label, 1))\n",
    "accuracy = tf.reduce_mean(tf.cast(correct_prediction, tf.float32))\n",
    "\n",
    "n_test_iter = 100\n",
    "for i in range(10000):\n",
    "    batch_xs, batch_ys = cifar_train.next_batch()\n",
    "    batch_xs = batch_xs - data_mean\n",
    "    ## display training accuracy \n",
    "    if i%1000 == 0:\n",
    "        test_accuracy = 0.0;\n",
    "        for iTst in range(n_test_iter):\n",
    "            batch_test_xs, batch_test_ys = cifar_test.next_batch()\n",
    "            batch_test_xs = batch_test_xs - data_mean\n",
    "            test_accuracy += accuracy.eval(feed_dict={\n",
    "                x:batch_test_xs, label: batch_test_ys})\n",
    "        test_accuracy /=n_test_iter\n",
    "        train_accuracy = accuracy.eval(feed_dict={\n",
    "                x:batch_xs, label: batch_ys})\n",
    "        train_cost = xent_cost.eval(feed_dict={\n",
    "                x:batch_xs, label: batch_ys})\n",
    "        print(\"step %d, training cost %g, training accuracy %g, test accuracy %g\"%(i, train_cost, train_accuracy, test_accuracy))\n",
    "    ## \n",
    "    sess.run(train_step, feed_dict={x: batch_xs, label: batch_ys})\n"
   ]
  },
  {
   "cell_type": "code",
   "execution_count": 5,
   "metadata": {},
   "outputs": [
    {
     "name": "stdout",
     "output_type": "stream",
     "text": [
      "0.311972826719 -0.326676696539\n"
     ]
    },
    {
     "data": {
      "image/png": "[encoded data removed]",
      "text/plain": [
       "<matplotlib.figure.Figure at 0x7f220c4dfe10>"
      ]
     },
     "metadata": {},
     "output_type": "display_data"
    }
   ],
   "source": [
    "conv1_W = my_net.conv1.params['W'].eval()\n",
    "conv1_W.shape\n",
    "conv1_filters = tilePatches(np.reshape(conv1_W, [5, 5, 3, -1]), ncol=8)\n",
    "print(np.max(conv1_filters), np.min(conv1_filters))\n",
    "plt.imshow(2*conv1_filters+0.5, interpolation='none')\n",
    "plt.show()"
   ]
  },
  {
   "cell_type": "markdown",
   "metadata": {},
   "source": [
    "## Compute the size of a map"
   ]
  },
  {
   "cell_type": "code",
   "execution_count": 35,
   "metadata": {},
   "outputs": [
    {
     "name": "stdout",
     "output_type": "stream",
     "text": [
      "[32 32]\n",
      "[15 15]\n",
      "[15 15]\n",
      "[7 7]\n",
      "[7 7]\n",
      "[3 3]\n"
     ]
    }
   ],
   "source": [
    "def mapSize(input_sz, filter_size, stride=1, padding=0):\n",
    "    return np.int32((input_sz + padding - filter_size)/stride + 1)\n",
    "\n",
    "input_map = np.asarray([32, 32])\n",
    "conv1_fz = np.asarray(my_net.conv1.shape[0:2])\n",
    "conv1_map = mapSize(input_map, conv1_fz, padding=(conv1_fz-1))\n",
    "print(conv1_map)\n",
    "\n",
    "pool1_fz = np.asarray(my_net.pool1.shape[1:3])\n",
    "pool1_map = mapSize(conv1_map, pool1_fz, stride=my_net.pool1.stride[1:3])\n",
    "print(pool1_map)\n",
    "\n",
    "\n",
    "conv2_fz = np.asarray(my_net.conv2.shape[0:2])\n",
    "conv2_map = mapSize(pool1_map, conv2_fz, padding=(conv2_fz-1))\n",
    "print(conv2_map)\n",
    "\n",
    "pool2_fz = np.asarray(my_net.pool2.shape[1:3])\n",
    "pool2_map = mapSize(conv2_map, pool2_fz, stride=my_net.pool2.stride[1:3])\n",
    "print(pool2_map)\n",
    "\n",
    "\n",
    "conv3_fz = np.asarray(my_net.conv3.shape[0:2])\n",
    "conv3_map = mapSize(pool2_map, conv3_fz, padding=(conv3_fz-1))\n",
    "print(conv3_map)\n",
    "\n",
    "pool3_fz = np.asarray(my_net.pool3.shape[1:3])\n",
    "pool3_map = mapSize(conv3_map, pool3_fz, stride=my_net.pool3.stride[1:3])\n",
    "print(pool3_map)"
   ]
  },
  {
   "cell_type": "markdown",
   "metadata": {},
   "source": [
    "## Computing receptive field size"
   ]
  },
  {
   "cell_type": "code",
   "execution_count": 66,
   "metadata": {},
   "outputs": [
    {
     "name": "stdout",
     "output_type": "stream",
     "text": [
      "conv1 rf size\n",
      "[5 5]\n",
      "pool1 rf size\n",
      "[7 7]\n",
      "conv2 rf size\n",
      "[15 15]\n",
      "pool2 rf size\n",
      "[17 17]\n",
      "conv3 rf size\n",
      "[25 25]\n",
      "pool3 rf size\n",
      "[27 27]\n",
      "fc4 rf size\n",
      "[31 31]\n"
     ]
    }
   ],
   "source": [
    "def rfSize(out_filter_size, in_filter_size, in_stride=1):\n",
    "    return (out_filter_size-1)*in_stride + in_filter_size\n",
    "\n",
    "conv1_rf = rfSize(conv1_fz, np.asarray([1,1]))\n",
    "print(\"conv1 rf size\")\n",
    "print(conv1_rf)\n",
    "\n",
    "pool1_rf = rfSize(pool1_fz, conv1_fz)\n",
    "print(\"pool1 rf size\")\n",
    "print(pool1_rf)\n",
    "\n",
    "pool1_stride = my_net.pool1.stride[1:3]\n",
    "conv2_rf = rfSize(conv2_fz, pool1_rf, in_stride=pool1_stride)\n",
    "print(\"conv2 rf size\")\n",
    "print(conv2_rf)\n",
    "\n",
    "pool2_rf = rfSize(pool2_fz, conv2_rf)\n",
    "print(\"pool2 rf size\")\n",
    "print(pool2_rf)\n",
    "\n",
    "pool2_stride = my_net.pool2.stride[1:3]\n",
    "conv3_rf = rfSize(conv3_fz, pool2_rf, in_stride=pool2_stride)\n",
    "print(\"conv3 rf size\")\n",
    "print(conv3_rf)\n",
    "\n",
    "pool3_rf = rfSize(pool3_fz, conv3_rf)\n",
    "print(\"pool3 rf size\")\n",
    "print(pool3_rf)\n",
    "\n",
    "pool3_stride = my_net.pool3.stride[1:3]\n",
    "fc4_fz = np.asarray([3, 3])\n",
    "fc4_rf = rfSize(fc4_fz, pool3_rf, in_stride=pool3_stride)\n",
    "print(\"fc4 rf size\")\n",
    "print(fc4_rf)\n"
   ]
  },
  {
   "cell_type": "code",
   "execution_count": 69,
   "metadata": {},
   "outputs": [],
   "source": [
    "## Visualize second layer units\n",
    "stimuli_x = tf.placeholder\n",
    "unit_idx = 0\n",
    "\n",
    "class CifarV2Net():\n",
    "    def __init__(self):\n",
    "        self.conv1 = ConvLayer((5, 5, 3, 32), 1,'relu', stddev=0.0001, bias=0.0)\n",
    "        self.pool1 = PoolLayer((3, 3), 2,'MAX', 'VALID')\n",
    "        self.conv2 = ConvLayer((5, 5, 32, 32), 1,'relu', stddev=0.01, bias=0.0)\n",
    "        \n",
    "        \n",
    "    def forward(self, X):\n",
    "        conv1 = self.conv1.forward(X)\n",
    "        pool1 = self.pool1.forward(conv1)\n",
    "        conv2 = self.conv2.forward(pool1)\n",
    "        return conv2\n",
    "\n",
    "my_v2net = CifarV2Net()\n",
    "## use learned parameters to visualize units\n",
    "my_v2net.conv1.params['W'] = my_net.conv1.params['W']\n",
    "my_v2net.conv1.params['b'] = my_net.conv1.params['b']\n",
    "my_v2net.conv2.params['W'] = my_net.conv2.params['W']\n",
    "my_v2net.conv2.params['b'] = my_net.conv2.params['b']\n",
    "\n",
    "vis_cost = tf.reduce_mean(tf.square(my_v2net.forward(stimuli_x)[:,0,0,unit_idx]))\n",
    "train_stimuli_update = tf.train.GradientDescentOptimizer(0.1).compute_gradients(vis_cost, var_list=[stimuli])\n",
    "\n"
   ]
  },
  {
   "cell_type": "code",
   "execution_count": null,
   "metadata": {
    "collapsed": true
   },
   "outputs": [],
   "source": [
    "stimuli = np.random.normal(size=[1, conv2_rf[0], conv2_rf[1], 3])\n",
    "for i in range(10000):\n",
    "    ## display training accuracy \n",
    "    sess.run(train_stimuli_update, feed_dict={x: stimuli})"
   ]
  },
  {
   "cell_type": "code",
   "execution_count": null,
   "metadata": {
    "collapsed": true
   },
   "outputs": [],
   "source": []
  }
 ],
 "metadata": {
  "kernelspec": {
   "display_name": "Python 2",
   "language": "python",
   "name": "python2"
  },
  "language_info": {
   "codemirror_mode": {
    "name": "ipython",
    "version": 2
   },
   "file_extension": ".py",
   "mimetype": "text/x-python",
   "name": "python",
   "nbconvert_exporter": "python",
   "pygments_lexer": "ipython2",
   "version": "2.7.12"
  }
 },
 "nbformat": 4,
 "nbformat_minor": 2
}
